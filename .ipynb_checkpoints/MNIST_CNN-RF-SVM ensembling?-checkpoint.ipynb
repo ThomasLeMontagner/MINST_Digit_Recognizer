{
 "cells": [
  {
   "cell_type": "code",
   "execution_count": 1,
   "id": "f961e626",
   "metadata": {},
   "outputs": [],
   "source": [
    "## Imports...\n",
    "# Math\n",
    "from random import randint\n",
    "import numpy as np # linear algebra\n",
    "import pandas as pd # data processing, CSV file I/O (e.g. pd.read_csv)\n",
    "\n",
    "# For deep learning algo\n",
    "from keras import layers\n",
    "from keras import models\n",
    "from tensorflow.keras.utils import to_categorical\n",
    "\n",
    "# For machine learning algo\n",
    "import sklearn\n",
    "from sklearn.model_selection import train_test_split\n",
    "from sklearn.ensemble import RandomForestClassifier\n",
    "from sklearn.svm import LinearSVC\n",
    "from sklearn.svm import SVC\n",
    "\n",
    "# For visualization\n",
    "import matplotlib.pyplot as plt\n",
    "import seaborn as sns"
   ]
  },
  {
   "cell_type": "markdown",
   "id": "f091fdd0",
   "metadata": {},
   "source": [
    "# Introduction\n",
    "Here is my very first Kaggle Notebook ! <br>\n",
    "I use this Notebook in order to get some practice and we look at 3 different type of models:\n",
    "1. Convolutional Neural Network\n",
    "1. Random Forest Classifier\n",
    "1. Support Vector Classification <br> <br> \n",
    "For this submission I did not try to fine-tune the models. However, I investigate the possiblity to ensemble them in order to improve teh accuracy of my model."
   ]
  },
  {
   "cell_type": "markdown",
   "id": "9534743b",
   "metadata": {},
   "source": [
    "# Import Data and analysis of the data\n",
    "Let's import the data first and look at them."
   ]
  },
  {
   "cell_type": "code",
   "execution_count": 2,
   "id": "79690ccf",
   "metadata": {},
   "outputs": [
    {
     "name": "stdout",
     "output_type": "stream",
     "text": [
      "Train_data shape:  (42000, 785)\n",
      "Test_data shape: (28000, 784)\n",
      "\n",
      "\n",
      "Train data:\n"
     ]
    },
    {
     "data": {
      "text/html": [
       "<div>\n",
       "<style scoped>\n",
       "    .dataframe tbody tr th:only-of-type {\n",
       "        vertical-align: middle;\n",
       "    }\n",
       "\n",
       "    .dataframe tbody tr th {\n",
       "        vertical-align: top;\n",
       "    }\n",
       "\n",
       "    .dataframe thead th {\n",
       "        text-align: right;\n",
       "    }\n",
       "</style>\n",
       "<table border=\"1\" class=\"dataframe\">\n",
       "  <thead>\n",
       "    <tr style=\"text-align: right;\">\n",
       "      <th></th>\n",
       "      <th>label</th>\n",
       "      <th>pixel0</th>\n",
       "      <th>pixel1</th>\n",
       "      <th>pixel2</th>\n",
       "      <th>pixel3</th>\n",
       "      <th>pixel4</th>\n",
       "      <th>pixel5</th>\n",
       "      <th>pixel6</th>\n",
       "      <th>pixel7</th>\n",
       "      <th>pixel8</th>\n",
       "      <th>...</th>\n",
       "      <th>pixel774</th>\n",
       "      <th>pixel775</th>\n",
       "      <th>pixel776</th>\n",
       "      <th>pixel777</th>\n",
       "      <th>pixel778</th>\n",
       "      <th>pixel779</th>\n",
       "      <th>pixel780</th>\n",
       "      <th>pixel781</th>\n",
       "      <th>pixel782</th>\n",
       "      <th>pixel783</th>\n",
       "    </tr>\n",
       "  </thead>\n",
       "  <tbody>\n",
       "    <tr>\n",
       "      <th>0</th>\n",
       "      <td>1</td>\n",
       "      <td>0</td>\n",
       "      <td>0</td>\n",
       "      <td>0</td>\n",
       "      <td>0</td>\n",
       "      <td>0</td>\n",
       "      <td>0</td>\n",
       "      <td>0</td>\n",
       "      <td>0</td>\n",
       "      <td>0</td>\n",
       "      <td>...</td>\n",
       "      <td>0</td>\n",
       "      <td>0</td>\n",
       "      <td>0</td>\n",
       "      <td>0</td>\n",
       "      <td>0</td>\n",
       "      <td>0</td>\n",
       "      <td>0</td>\n",
       "      <td>0</td>\n",
       "      <td>0</td>\n",
       "      <td>0</td>\n",
       "    </tr>\n",
       "    <tr>\n",
       "      <th>1</th>\n",
       "      <td>0</td>\n",
       "      <td>0</td>\n",
       "      <td>0</td>\n",
       "      <td>0</td>\n",
       "      <td>0</td>\n",
       "      <td>0</td>\n",
       "      <td>0</td>\n",
       "      <td>0</td>\n",
       "      <td>0</td>\n",
       "      <td>0</td>\n",
       "      <td>...</td>\n",
       "      <td>0</td>\n",
       "      <td>0</td>\n",
       "      <td>0</td>\n",
       "      <td>0</td>\n",
       "      <td>0</td>\n",
       "      <td>0</td>\n",
       "      <td>0</td>\n",
       "      <td>0</td>\n",
       "      <td>0</td>\n",
       "      <td>0</td>\n",
       "    </tr>\n",
       "    <tr>\n",
       "      <th>2</th>\n",
       "      <td>1</td>\n",
       "      <td>0</td>\n",
       "      <td>0</td>\n",
       "      <td>0</td>\n",
       "      <td>0</td>\n",
       "      <td>0</td>\n",
       "      <td>0</td>\n",
       "      <td>0</td>\n",
       "      <td>0</td>\n",
       "      <td>0</td>\n",
       "      <td>...</td>\n",
       "      <td>0</td>\n",
       "      <td>0</td>\n",
       "      <td>0</td>\n",
       "      <td>0</td>\n",
       "      <td>0</td>\n",
       "      <td>0</td>\n",
       "      <td>0</td>\n",
       "      <td>0</td>\n",
       "      <td>0</td>\n",
       "      <td>0</td>\n",
       "    </tr>\n",
       "    <tr>\n",
       "      <th>3</th>\n",
       "      <td>4</td>\n",
       "      <td>0</td>\n",
       "      <td>0</td>\n",
       "      <td>0</td>\n",
       "      <td>0</td>\n",
       "      <td>0</td>\n",
       "      <td>0</td>\n",
       "      <td>0</td>\n",
       "      <td>0</td>\n",
       "      <td>0</td>\n",
       "      <td>...</td>\n",
       "      <td>0</td>\n",
       "      <td>0</td>\n",
       "      <td>0</td>\n",
       "      <td>0</td>\n",
       "      <td>0</td>\n",
       "      <td>0</td>\n",
       "      <td>0</td>\n",
       "      <td>0</td>\n",
       "      <td>0</td>\n",
       "      <td>0</td>\n",
       "    </tr>\n",
       "    <tr>\n",
       "      <th>4</th>\n",
       "      <td>0</td>\n",
       "      <td>0</td>\n",
       "      <td>0</td>\n",
       "      <td>0</td>\n",
       "      <td>0</td>\n",
       "      <td>0</td>\n",
       "      <td>0</td>\n",
       "      <td>0</td>\n",
       "      <td>0</td>\n",
       "      <td>0</td>\n",
       "      <td>...</td>\n",
       "      <td>0</td>\n",
       "      <td>0</td>\n",
       "      <td>0</td>\n",
       "      <td>0</td>\n",
       "      <td>0</td>\n",
       "      <td>0</td>\n",
       "      <td>0</td>\n",
       "      <td>0</td>\n",
       "      <td>0</td>\n",
       "      <td>0</td>\n",
       "    </tr>\n",
       "  </tbody>\n",
       "</table>\n",
       "<p>5 rows × 785 columns</p>\n",
       "</div>"
      ],
      "text/plain": [
       "   label  pixel0  pixel1  pixel2  pixel3  pixel4  pixel5  pixel6  pixel7  \\\n",
       "0      1       0       0       0       0       0       0       0       0   \n",
       "1      0       0       0       0       0       0       0       0       0   \n",
       "2      1       0       0       0       0       0       0       0       0   \n",
       "3      4       0       0       0       0       0       0       0       0   \n",
       "4      0       0       0       0       0       0       0       0       0   \n",
       "\n",
       "   pixel8  ...  pixel774  pixel775  pixel776  pixel777  pixel778  pixel779  \\\n",
       "0       0  ...         0         0         0         0         0         0   \n",
       "1       0  ...         0         0         0         0         0         0   \n",
       "2       0  ...         0         0         0         0         0         0   \n",
       "3       0  ...         0         0         0         0         0         0   \n",
       "4       0  ...         0         0         0         0         0         0   \n",
       "\n",
       "   pixel780  pixel781  pixel782  pixel783  \n",
       "0         0         0         0         0  \n",
       "1         0         0         0         0  \n",
       "2         0         0         0         0  \n",
       "3         0         0         0         0  \n",
       "4         0         0         0         0  \n",
       "\n",
       "[5 rows x 785 columns]"
      ]
     },
     "execution_count": 2,
     "metadata": {},
     "output_type": "execute_result"
    }
   ],
   "source": [
    "train_data = pd.read_csv(\"train.csv\")\n",
    "test_data = pd.read_csv(\"test.csv\")\n",
    "\n",
    "print(\"Train_data shape: \", train_data.shape)\n",
    "print(\"Test_data shape:\", test_data.shape)\n",
    "print(\"\\n\")\n",
    "\n",
    "print(\"Train data:\")\n",
    "train_data.head()"
   ]
  },
  {
   "cell_type": "code",
   "execution_count": 3,
   "id": "bd1d0127",
   "metadata": {},
   "outputs": [
    {
     "data": {
      "text/plain": [
       "{0, 1, 2, 3, 4, 5, 6, 7, 8, 9}"
      ]
     },
     "execution_count": 3,
     "metadata": {},
     "output_type": "execute_result"
    }
   ],
   "source": [
    "# Visualize the set of single labels. Are all labels represented? If so, ais their distribution rather uniform?\n",
    "set(train_data[\"label\"])"
   ]
  },
  {
   "cell_type": "code",
   "execution_count": 4,
   "id": "9c55ca3e",
   "metadata": {},
   "outputs": [
    {
     "data": {
      "text/plain": [
       "<AxesSubplot:xlabel='label', ylabel='count'>"
      ]
     },
     "execution_count": 4,
     "metadata": {},
     "output_type": "execute_result"
    },
    {
     "data": {
      "image/png": "[encoded data removed]",
      "text/plain": [
       "<Figure size 432x288 with 1 Axes>"
      ]
     },
     "metadata": {
      "needs_background": "light"
     },
     "output_type": "display_data"
    }
   ],
   "source": [
    "# Visualize the distribuation of labels\n",
    "sns.countplot(x=train_data[\"label\"])"
   ]
  },
  {
   "cell_type": "markdown",
   "id": "06a0247f",
   "metadata": {},
   "source": [
    "We can see that the distribution is rather uniform.\n",
    "Now let's visualize one sample..."
   ]
  },
  {
   "cell_type": "code",
   "execution_count": 5,
   "id": "c70172bf",
   "metadata": {},
   "outputs": [],
   "source": [
    "def plot_digit(pixels, label):\n",
    "    digit = pixels.to_numpy().reshape((28,28))\n",
    "    plt.title(\"Label: {}\".format(label))  \n",
    "    fig = plt.imshow(digit,cmap=\"gist_gray\")"
   ]
  },
  {
   "cell_type": "code",
   "execution_count": 6,
   "id": "b05476ec",
   "metadata": {},
   "outputs": [
    {
     "data": {
      "image/png": "[encoded data removed]",
      "text/plain": [
       "<Figure size 432x288 with 1 Axes>"
      ]
     },
     "metadata": {
      "needs_background": "light"
     },
     "output_type": "display_data"
    }
   ],
   "source": [
    "random_num = randint(0, train_data.shape[0] - 1)\n",
    "pixels = train_data.iloc[random_num,1:]\n",
    "label = train_data.iloc[random_num,0]\n",
    "\n",
    "plot_digit(pixels, label)"
   ]
  },
  {
   "cell_type": "markdown",
   "id": "c70ded12",
   "metadata": {},
   "source": [
    "# Models\n",
    "In this section we will test and compare several machine learning algorithms, including:\n",
    "* Convolutional Neural Network (CNN)\n",
    "* Random Forest Classifier\n",
    "* Support Vector Machine Classifier\n",
    "\n",
    "Because I was reading Deep Learning with Python from François Chollet before diving into Kaggle, I will start with the CNN in order to apply what I have learned in that book :)\n",
    "## CNN \n",
    "### Data processing "
   ]
  },
  {
   "cell_type": "code",
   "execution_count": 7,
   "id": "36c6632a",
   "metadata": {},
   "outputs": [
    {
     "name": "stdout",
     "output_type": "stream",
     "text": [
      "Shape of d_x:  (42000, 28, 28, 1)\n",
      "Shape of d_y:  (42000,)\n"
     ]
    }
   ],
   "source": [
    "d_y = train_data[\"label\"].to_numpy()\n",
    "d_x = train_data.drop(columns = \"label\").to_numpy()\n",
    "d_x = np.reshape(d_x, (d_x.shape[0], 28, 28, 1))\n",
    "\n",
    "x_test = test_data.to_numpy()\n",
    "x_test = np.reshape(x_test, (x_test.shape[0], 28, 28, 1))\n",
    "\n",
    "d_x = d_x.astype('float32')\n",
    "x_test = x_test.astype('float32')\n",
    "\n",
    "d_x/=255\n",
    "x_test/=255\n",
    "\n",
    "#print(train_data.iloc[0])\n",
    "print(\"Shape of d_x: \", d_x.shape)\n",
    "print(\"Shape of d_y: \", d_y.shape)\n",
    "#print(x_train[0].shape)"
   ]
  },
  {
   "cell_type": "code",
   "execution_count": 8,
   "id": "d27d863c",
   "metadata": {},
   "outputs": [
    {
     "name": "stdout",
     "output_type": "stream",
     "text": [
      "Shape of y_train:  (42000, 10)\n"
     ]
    }
   ],
   "source": [
    "# set number of categories\n",
    "num_category = 10\n",
    "# convert class vectors to binary class matrices\n",
    "d_y = to_categorical(d_y, num_category)\n",
    "print('Shape of y_train: ', d_y.shape)"
   ]
  },
  {
   "cell_type": "code",
   "execution_count": 9,
   "id": "cf7fdc0c",
   "metadata": {},
   "outputs": [
    {
     "name": "stdout",
     "output_type": "stream",
     "text": [
      "Shape of y_train:  (33600, 10)\n"
     ]
    }
   ],
   "source": [
    "x_train, x_val, y_train, y_val = train_test_split(d_x, d_y, test_size=0.2, random_state=0)\n",
    "\n",
    "print('Shape of y_train: ', y_train.shape)"
   ]
  },
  {
   "cell_type": "markdown",
   "id": "bb79bcad",
   "metadata": {},
   "source": [
    "### Building the network "
   ]
  },
  {
   "cell_type": "code",
   "execution_count": 10,
   "id": "74d4f337",
   "metadata": {},
   "outputs": [
    {
     "name": "stdout",
     "output_type": "stream",
     "text": [
      "Model: \"sequential\"\n",
      "_________________________________________________________________\n",
      " Layer (type)                Output Shape              Param #   \n",
      "=================================================================\n",
      " conv2d (Conv2D)             (None, 24, 24, 32)        832       \n",
      "                                                                 \n",
      " max_pooling2d (MaxPooling2D  (None, 12, 12, 32)       0         \n",
      " )                                                               \n",
      "                                                                 \n",
      " conv2d_1 (Conv2D)           (None, 8, 8, 64)          51264     \n",
      "                                                                 \n",
      " max_pooling2d_1 (MaxPooling  (None, 4, 4, 64)         0         \n",
      " 2D)                                                             \n",
      "                                                                 \n",
      " flatten (Flatten)           (None, 1024)              0         \n",
      "                                                                 \n",
      " dense (Dense)               (None, 128)               131200    \n",
      "                                                                 \n",
      " batch_normalization (BatchN  (None, 128)              512       \n",
      " ormalization)                                                   \n",
      "                                                                 \n",
      " dense_1 (Dense)             (None, 10)                1290      \n",
      "                                                                 \n",
      "=================================================================\n",
      "Total params: 185,098\n",
      "Trainable params: 184,842\n",
      "Non-trainable params: 256\n",
      "_________________________________________________________________\n"
     ]
    },
    {
     "name": "stderr",
     "output_type": "stream",
     "text": [
      "2022-02-12 15:22:27.251798: I tensorflow/stream_executor/cuda/cuda_gpu_executor.cc:936] successful NUMA node read from SysFS had negative value (-1), but there must be at least one NUMA node, so returning NUMA node zero\n",
      "2022-02-12 15:22:27.263188: I tensorflow/stream_executor/cuda/cuda_gpu_executor.cc:936] successful NUMA node read from SysFS had negative value (-1), but there must be at least one NUMA node, so returning NUMA node zero\n",
      "2022-02-12 15:22:27.263525: I tensorflow/stream_executor/cuda/cuda_gpu_executor.cc:936] successful NUMA node read from SysFS had negative value (-1), but there must be at least one NUMA node, so returning NUMA node zero\n",
      "2022-02-12 15:22:27.264182: I tensorflow/core/platform/cpu_feature_guard.cc:151] This TensorFlow binary is optimized with oneAPI Deep Neural Network Library (oneDNN) to use the following CPU instructions in performance-critical operations:  AVX2 FMA\n",
      "To enable them in other operations, rebuild TensorFlow with the appropriate compiler flags.\n",
      "2022-02-12 15:22:27.264449: I tensorflow/stream_executor/cuda/cuda_gpu_executor.cc:936] successful NUMA node read from SysFS had negative value (-1), but there must be at least one NUMA node, so returning NUMA node zero\n",
      "2022-02-12 15:22:27.264793: I tensorflow/stream_executor/cuda/cuda_gpu_executor.cc:936] successful NUMA node read from SysFS had negative value (-1), but there must be at least one NUMA node, so returning NUMA node zero\n",
      "2022-02-12 15:22:27.265100: I tensorflow/stream_executor/cuda/cuda_gpu_executor.cc:936] successful NUMA node read from SysFS had negative value (-1), but there must be at least one NUMA node, so returning NUMA node zero\n",
      "2022-02-12 15:22:27.635981: I tensorflow/stream_executor/cuda/cuda_gpu_executor.cc:936] successful NUMA node read from SysFS had negative value (-1), but there must be at least one NUMA node, so returning NUMA node zero\n",
      "2022-02-12 15:22:27.636296: I tensorflow/stream_executor/cuda/cuda_gpu_executor.cc:936] successful NUMA node read from SysFS had negative value (-1), but there must be at least one NUMA node, so returning NUMA node zero\n",
      "2022-02-12 15:22:27.636568: I tensorflow/stream_executor/cuda/cuda_gpu_executor.cc:936] successful NUMA node read from SysFS had negative value (-1), but there must be at least one NUMA node, so returning NUMA node zero\n",
      "2022-02-12 15:22:27.636805: I tensorflow/core/common_runtime/gpu/gpu_device.cc:1525] Created device /job:localhost/replica:0/task:0/device:GPU:0 with 2898 MB memory:  -> device: 0, name: GeForce GTX 1050 Ti, pci bus id: 0000:01:00.0, compute capability: 6.1\n"
     ]
    }
   ],
   "source": [
    "cnn_model = models.Sequential()\n",
    "cnn_model.add(layers.Conv2D(32, kernel_size=(5,5), activation='relu', input_shape=(28,28,1)))\n",
    "#model.add(layers.BatchNormalization())\n",
    "cnn_model.add(layers.MaxPooling2D((2,2)))\n",
    "cnn_model.add(layers.Conv2D(64, (5,5), activation='relu'))\n",
    "#model.add(layers.BatchNormalization(-1)) does not work :( we will look at it a later submission\n",
    "#cnn_model.add(layers.Dropout(0.25))\n",
    "cnn_model.add(layers.MaxPooling2D((2,2)))\n",
    "\n",
    "cnn_model.add(layers.Flatten())\n",
    "\n",
    "cnn_model.add(layers.Dense(128, activation='relu'))\n",
    "cnn_model.add(layers.BatchNormalization())\n",
    "#cnn_model.add(layers.Dropout(0.5))\n",
    "cnn_model.add(layers.Dense(num_category, activation='softmax'))\n",
    "\n",
    "cnn_model.summary()"
   ]
  },
  {
   "cell_type": "code",
   "execution_count": 11,
   "id": "2cc9ff6f",
   "metadata": {},
   "outputs": [],
   "source": [
    "# Compile the model using categorical_crossentropy because we have more than 2 categories\n",
    "cnn_model.compile(loss='categorical_crossentropy', \n",
    "             optimizer=\"rmsprop\",\n",
    "             metrics=['acc'])"
   ]
  },
  {
   "cell_type": "markdown",
   "id": "9401517c",
   "metadata": {},
   "source": [
    "### Training the model"
   ]
  },
  {
   "cell_type": "code",
   "execution_count": 12,
   "id": "af34303d",
   "metadata": {},
   "outputs": [
    {
     "name": "stdout",
     "output_type": "stream",
     "text": [
      "Epoch 1/40\n"
     ]
    },
    {
     "name": "stderr",
     "output_type": "stream",
     "text": [
      "2022-02-12 15:22:28.788975: I tensorflow/stream_executor/cuda/cuda_dnn.cc:368] Loaded cuDNN version 8101\n"
     ]
    },
    {
     "name": "stdout",
     "output_type": "stream",
     "text": [
      "263/263 [==============================] - 4s 9ms/step - loss: 0.1221 - acc: 0.9633 - val_loss: 0.1660 - val_acc: 0.9712\n",
      "Epoch 2/40\n",
      "263/263 [==============================] - 2s 8ms/step - loss: 0.0417 - acc: 0.9863 - val_loss: 0.0630 - val_acc: 0.9821\n",
      "Epoch 3/40\n",
      "263/263 [==============================] - 3s 10ms/step - loss: 0.0250 - acc: 0.9921 - val_loss: 0.0548 - val_acc: 0.9829\n",
      "Epoch 4/40\n",
      "263/263 [==============================] - 2s 9ms/step - loss: 0.0190 - acc: 0.9939 - val_loss: 0.0741 - val_acc: 0.9788\n",
      "Epoch 5/40\n",
      "263/263 [==============================] - 2s 9ms/step - loss: 0.0123 - acc: 0.9964 - val_loss: 0.0339 - val_acc: 0.9898\n",
      "Epoch 6/40\n",
      "263/263 [==============================] - 2s 9ms/step - loss: 0.0091 - acc: 0.9973 - val_loss: 0.0429 - val_acc: 0.9882\n",
      "Epoch 7/40\n",
      "263/263 [==============================] - 2s 9ms/step - loss: 0.0067 - acc: 0.9982 - val_loss: 0.0412 - val_acc: 0.9894\n",
      "Epoch 8/40\n",
      "263/263 [==============================] - 2s 9ms/step - loss: 0.0057 - acc: 0.9982 - val_loss: 0.0379 - val_acc: 0.9895\n",
      "Epoch 9/40\n",
      "263/263 [==============================] - 2s 9ms/step - loss: 0.0047 - acc: 0.9987 - val_loss: 0.0344 - val_acc: 0.9917\n",
      "Epoch 10/40\n",
      "263/263 [==============================] - 2s 9ms/step - loss: 0.0037 - acc: 0.9987 - val_loss: 0.0459 - val_acc: 0.9889\n",
      "Epoch 11/40\n",
      "263/263 [==============================] - 2s 9ms/step - loss: 0.0029 - acc: 0.9992 - val_loss: 0.0586 - val_acc: 0.9845\n",
      "Epoch 12/40\n",
      "263/263 [==============================] - 2s 9ms/step - loss: 0.0025 - acc: 0.9989 - val_loss: 0.0466 - val_acc: 0.9889\n",
      "Epoch 13/40\n",
      "263/263 [==============================] - 2s 9ms/step - loss: 0.0023 - acc: 0.9994 - val_loss: 0.0362 - val_acc: 0.9914\n",
      "Epoch 14/40\n",
      "263/263 [==============================] - 2s 9ms/step - loss: 0.0019 - acc: 0.9995 - val_loss: 0.0393 - val_acc: 0.9914\n",
      "Epoch 15/40\n",
      "263/263 [==============================] - 2s 9ms/step - loss: 0.0017 - acc: 0.9994 - val_loss: 0.0392 - val_acc: 0.9908\n",
      "Epoch 16/40\n",
      "263/263 [==============================] - 2s 9ms/step - loss: 0.0014 - acc: 0.9995 - val_loss: 0.0411 - val_acc: 0.9908\n",
      "Epoch 17/40\n",
      "263/263 [==============================] - 2s 9ms/step - loss: 8.5225e-04 - acc: 0.9998 - val_loss: 0.0409 - val_acc: 0.9898\n",
      "Epoch 18/40\n",
      "263/263 [==============================] - 2s 9ms/step - loss: 9.8729e-04 - acc: 0.9996 - val_loss: 0.0419 - val_acc: 0.9912\n",
      "Epoch 19/40\n",
      "263/263 [==============================] - 2s 9ms/step - loss: 0.0015 - acc: 0.9995 - val_loss: 0.0279 - val_acc: 0.9936\n",
      "Epoch 20/40\n",
      "263/263 [==============================] - 2s 9ms/step - loss: 7.2351e-04 - acc: 0.9998 - val_loss: 0.0527 - val_acc: 0.9887\n",
      "Epoch 21/40\n",
      "263/263 [==============================] - 2s 9ms/step - loss: 0.0013 - acc: 0.9995 - val_loss: 0.0647 - val_acc: 0.9888\n",
      "Epoch 22/40\n",
      "263/263 [==============================] - 3s 10ms/step - loss: 0.0012 - acc: 0.9996 - val_loss: 0.0541 - val_acc: 0.9890\n",
      "Epoch 23/40\n",
      "263/263 [==============================] - 2s 9ms/step - loss: 0.0010 - acc: 0.9997 - val_loss: 0.0433 - val_acc: 0.9929\n",
      "Epoch 24/40\n",
      "263/263 [==============================] - 2s 9ms/step - loss: 0.0010 - acc: 0.9995 - val_loss: 0.0481 - val_acc: 0.9905\n",
      "Epoch 25/40\n",
      "263/263 [==============================] - 2s 9ms/step - loss: 0.0011 - acc: 0.9996 - val_loss: 0.0407 - val_acc: 0.9920\n",
      "Epoch 26/40\n",
      "263/263 [==============================] - 2s 9ms/step - loss: 8.3628e-04 - acc: 0.9997 - val_loss: 0.0506 - val_acc: 0.9910\n",
      "Epoch 27/40\n",
      "263/263 [==============================] - 2s 9ms/step - loss: 0.0013 - acc: 0.9996 - val_loss: 0.0775 - val_acc: 0.9873\n",
      "Epoch 28/40\n",
      "263/263 [==============================] - 2s 9ms/step - loss: 6.3661e-04 - acc: 0.9999 - val_loss: 0.0423 - val_acc: 0.9913\n",
      "Epoch 29/40\n",
      "263/263 [==============================] - 3s 10ms/step - loss: 6.4691e-04 - acc: 0.9999 - val_loss: 0.0521 - val_acc: 0.9908\n",
      "Epoch 30/40\n",
      "263/263 [==============================] - 3s 10ms/step - loss: 6.0833e-04 - acc: 0.9998 - val_loss: 0.0411 - val_acc: 0.9923\n",
      "Epoch 31/40\n",
      "263/263 [==============================] - 2s 9ms/step - loss: 0.0010 - acc: 0.9998 - val_loss: 0.0434 - val_acc: 0.9924\n",
      "Epoch 32/40\n",
      "263/263 [==============================] - 2s 9ms/step - loss: 6.2542e-04 - acc: 0.9998 - val_loss: 0.0479 - val_acc: 0.9902\n",
      "Epoch 33/40\n",
      "263/263 [==============================] - 2s 9ms/step - loss: 3.4028e-04 - acc: 0.9999 - val_loss: 0.0520 - val_acc: 0.9915\n",
      "Epoch 34/40\n",
      "263/263 [==============================] - 2s 9ms/step - loss: 5.9047e-04 - acc: 0.9998 - val_loss: 0.0510 - val_acc: 0.9913\n",
      "Epoch 35/40\n",
      "263/263 [==============================] - 2s 9ms/step - loss: 3.9401e-04 - acc: 0.9999 - val_loss: 0.0539 - val_acc: 0.9911\n",
      "Epoch 36/40\n",
      "263/263 [==============================] - 3s 10ms/step - loss: 3.4070e-04 - acc: 0.9999 - val_loss: 0.0460 - val_acc: 0.9920\n",
      "Epoch 37/40\n",
      "263/263 [==============================] - 3s 10ms/step - loss: 5.0378e-04 - acc: 0.9998 - val_loss: 0.0576 - val_acc: 0.9911\n",
      "Epoch 38/40\n",
      "263/263 [==============================] - 3s 10ms/step - loss: 4.6037e-04 - acc: 0.9999 - val_loss: 0.0523 - val_acc: 0.9919\n",
      "Epoch 39/40\n",
      "263/263 [==============================] - 3s 10ms/step - loss: 5.7105e-04 - acc: 0.9998 - val_loss: 0.0730 - val_acc: 0.9890\n",
      "Epoch 40/40\n",
      "263/263 [==============================] - 3s 10ms/step - loss: 6.8468e-04 - acc: 0.9999 - val_loss: 0.0502 - val_acc: 0.9914\n"
     ]
    }
   ],
   "source": [
    "history = cnn_model.fit(x_train,\n",
    "                    y_train,\n",
    "                    epochs=40,\n",
    "                    batch_size=128,\n",
    "                    validation_data=(x_val, y_val))"
   ]
  },
  {
   "cell_type": "markdown",
   "id": "442da9c8",
   "metadata": {},
   "source": [
    "### Plotting the results "
   ]
  },
  {
   "cell_type": "code",
   "execution_count": 13,
   "id": "7dac974b",
   "metadata": {},
   "outputs": [
    {
     "data": {
      "image/png": "[encoded data removed]",
      "text/plain": [
       "<Figure size 432x288 with 1 Axes>"
      ]
     },
     "metadata": {
      "needs_background": "light"
     },
     "output_type": "display_data"
    },
    {
     "data": {
      "image/png": "[encoded data removed]",
      "text/plain": [
       "<Figure size 432x288 with 1 Axes>"
      ]
     },
     "metadata": {
      "needs_background": "light"
     },
     "output_type": "display_data"
    }
   ],
   "source": [
    "acc = history.history['acc']\n",
    "val_acc = history.history['val_acc']\n",
    "loss = history.history['loss']\n",
    "val_loss = history.history['val_loss']\n",
    "\n",
    "epochs = range(1, len(acc) + 1)\n",
    "plt.plot(epochs, acc, 'bo', label='Training acc')\n",
    "plt.plot(epochs, val_acc, 'b', label='Validation acc')\n",
    "plt.title('Training and validation accuracy')\n",
    "plt.legend()\n",
    "\n",
    "plt.figure()\n",
    "\n",
    "plt.plot(epochs, loss, 'bo', label='Traiing loss')\n",
    "plt.plot(epochs, val_loss, 'b', label='Validation loss')\n",
    "plt.legend()\n",
    "\n",
    "plt.show()"
   ]
  },
  {
   "cell_type": "markdown",
   "id": "745395c6",
   "metadata": {},
   "source": [
    "The training and validation and accuracy (and loss) are rather constant at the end. Without much improvement. The model does not overfit. There is room for improvement, but at this stage we will leave the model as it is and will improve later."
   ]
  },
  {
   "cell_type": "code",
   "execution_count": 14,
   "id": "a5a17afe",
   "metadata": {},
   "outputs": [
    {
     "name": "stdout",
     "output_type": "stream",
     "text": [
      "Shape of labels: (8400, 1)\n",
      "Shape of wrong_cnn_pred: (72, 1) \n",
      "\n",
      "Shape of join: (72, 2) \n",
      "\n"
     ]
    },
    {
     "data": {
      "text/plain": [
       "<AxesSubplot:xlabel='Value', ylabel='count'>"
      ]
     },
     "execution_count": 14,
     "metadata": {},
     "output_type": "execute_result"
    },
    {
     "data": {
      "image/png": "[encoded data removed]",
      "text/plain": [
       "<Figure size 432x288 with 1 Axes>"
      ]
     },
     "metadata": {
      "needs_background": "light"
     },
     "output_type": "display_data"
    }
   ],
   "source": [
    "# Let's look at the predictions from our CNN model\n",
    "cnn_pred = pd.DataFrame(np.argmax(cnn_model.predict(x_val), axis=1), columns=[\"CNN Prediction\"])\n",
    "\n",
    "# Correct labels from input dataset\n",
    "labels = pd.DataFrame(np.argmax(y_val, axis = 1), columns=[\"Value\"])\n",
    "print('Shape of labels:', labels.shape)\n",
    "\n",
    "# Let's see where our model was wrong\n",
    "wrong_cnn_pred = cnn_pred[cnn_pred[\"CNN Prediction\"] != labels['Value']]\n",
    "print('Shape of wrong_cnn_pred:', wrong_cnn_pred.shape, \"\\n\")\n",
    "\n",
    "join = pd.concat([wrong_cnn_pred, labels], axis=1, join=\"inner\")\n",
    "print('Shape of join:', join.shape, \"\\n\")\n",
    "\n",
    "sns.countplot(x=join[\"Value\"])"
   ]
  },
  {
   "cell_type": "markdown",
   "id": "9623d7e8",
   "metadata": {},
   "source": [
    "It is interesting to see that the number of errors per label is non uniform. Some labels are much less well predicted than others. <br> Let's visualize what are the tendencies of our model in mislabeling the categories. For instance, is a 9 more ofter confused with a 0 or a 4? "
   ]
  },
  {
   "cell_type": "code",
   "execution_count": 15,
   "id": "d6d97ed6",
   "metadata": {},
   "outputs": [
    {
     "data": {
      "image/png": "[encoded data removed]",
      "text/plain": [
       "<Figure size 432x288 with 1 Axes>"
      ]
     },
     "metadata": {
      "needs_background": "light"
     },
     "output_type": "display_data"
    },
    {
     "data": {
      "image/png": "[encoded data removed]",
      "text/plain": [
       "<Figure size 432x288 with 1 Axes>"
      ]
     },
     "metadata": {
      "needs_background": "light"
     },
     "output_type": "display_data"
    },
    {
     "data": {
      "image/png": "[encoded data removed]",
      "text/plain": [
       "<Figure size 432x288 with 1 Axes>"
      ]
     },
     "metadata": {
      "needs_background": "light"
     },
     "output_type": "display_data"
    },
    {
     "data": {
      "image/png": "[encoded data removed]",
      "text/plain": [
       "<Figure size 432x288 with 1 Axes>"
      ]
     },
     "metadata": {
      "needs_background": "light"
     },
     "output_type": "display_data"
    },
    {
     "data": {
      "image/png": "[encoded data removed]",
      "text/plain": [
       "<Figure size 432x288 with 1 Axes>"
      ]
     },
     "metadata": {
      "needs_background": "light"
     },
     "output_type": "display_data"
    },
    {
     "data": {
      "image/png": "[encoded data removed]",
      "text/plain": [
       "<Figure size 432x288 with 1 Axes>"
      ]
     },
     "metadata": {
      "needs_background": "light"
     },
     "output_type": "display_data"
    },
    {
     "data": {
      "image/png": "[encoded data removed]",
      "text/plain": [
       "<Figure size 432x288 with 1 Axes>"
      ]
     },
     "metadata": {
      "needs_background": "light"
     },
     "output_type": "display_data"
    },
    {
     "data": {
      "image/png": "[encoded data removed]",
      "text/plain": [
       "<Figure size 432x288 with 1 Axes>"
      ]
     },
     "metadata": {
      "needs_background": "light"
     },
     "output_type": "display_data"
    },
    {
     "data": {
      "image/png": "[encoded data removed]",
      "text/plain": [
       "<Figure size 432x288 with 1 Axes>"
      ]
     },
     "metadata": {
      "needs_background": "light"
     },
     "output_type": "display_data"
    },
    {
     "data": {
      "image/png": "[encoded data removed]",
      "text/plain": [
       "<Figure size 432x288 with 1 Axes>"
      ]
     },
     "metadata": {
      "needs_background": "light"
     },
     "output_type": "display_data"
    }
   ],
   "source": [
    "# Loop on all categories (labels)\n",
    "for i in range(0, num_category):\n",
    "    # Filter the join table on the current category\n",
    "    filtered = join[join[\"Value\"] == i]\n",
    "    if not filtered.empty:\n",
    "        plt.figure()\n",
    "        sns.countplot(x=filtered[\"CNN Prediction\"]).set(title=\"Mislabelings of {}\".format(i))"
   ]
  },
  {
   "cell_type": "code",
   "execution_count": 16,
   "id": "5da00406",
   "metadata": {},
   "outputs": [
    {
     "data": {
      "image/png": "[encoded data removed]",
      "text/plain": [
       "<Figure size 432x288 with 9 Axes>"
      ]
     },
     "metadata": {},
     "output_type": "display_data"
    }
   ],
   "source": [
    "fig = plt.figure()\n",
    "j = 0\n",
    "num_plots = min(9, wrong_cnn_pred.shape[0])\n",
    "for i in wrong_cnn_pred.index[:num_plots]:\n",
    "    plt.subplot(3,3,j+1)\n",
    "    plt.tight_layout()\n",
    "    digit = x_val[i].reshape((28,28))\n",
    "    pred_label = wrong_cnn_pred.loc[i].argmax() # we get the index of the max in the row i\n",
    "    correct_label = y_val[i].argmax()\n",
    "    plt.title(\"Predicted: {} | was {}\".format(pred_label, correct_label)) \n",
    "    plt.imshow(digit, cmap='gray', interpolation='none')\n",
    "    plt.xticks([])\n",
    "    plt.yticks([])\n",
    "    j += 1"
   ]
  },
  {
   "cell_type": "markdown",
   "id": "0b631b1a",
   "metadata": {},
   "source": [
    "The current validation accuracy is around 99% percent which is pretty ! <br>\n",
    "Looking at the sample of errors illustrated above, I think it is fair to say that even a human could have mislabelled the image as well... <br>\n",
    "Still, let's try to improve our model and use other types of algorigthms to classify our images.\n",
    "\n",
    "## Random Forest Classifier\n",
    "### Data Processing"
   ]
  },
  {
   "cell_type": "code",
   "execution_count": 17,
   "id": "d513a0af",
   "metadata": {},
   "outputs": [],
   "source": [
    "# scikit-learn expects 2d num arrays for the training dataset for a fit function.\n",
    "# Thefore we need to reshape our arrays\n",
    "x_train = x_train.reshape(x_train.shape[0], x_train.shape[1]*x_train.shape[2])\n",
    "x_val = x_val.reshape(x_val.shape[0], x_val.shape[1]*x_val.shape[2])"
   ]
  },
  {
   "cell_type": "code",
   "execution_count": 18,
   "id": "42348c94",
   "metadata": {},
   "outputs": [
    {
     "name": "stdout",
     "output_type": "stream",
     "text": [
      "(33600,)\n",
      "(8400,)\n"
     ]
    }
   ],
   "source": [
    "y_train = np.argmax(y_train, axis=1)\n",
    "print(y_train.shape)\n",
    "y_val = np.argmax(y_val, axis=1)\n",
    "print(y_val.shape)"
   ]
  },
  {
   "cell_type": "markdown",
   "id": "f29a02f2",
   "metadata": {},
   "source": [
    "### Build and train RF Classifier model"
   ]
  },
  {
   "cell_type": "code",
   "execution_count": 19,
   "id": "9fa10ce1",
   "metadata": {},
   "outputs": [
    {
     "name": "stdout",
     "output_type": "stream",
     "text": [
      "(8400,)\n"
     ]
    }
   ],
   "source": [
    "rf = RandomForestClassifier(n_estimators=100)\n",
    "rf.fit(x_train, y_train)\n",
    "\n",
    "# Predictions for validation\n",
    "rf_pred = rf.predict(x_val)\n",
    "print(rf_pred.shape)"
   ]
  },
  {
   "cell_type": "code",
   "execution_count": 20,
   "id": "4af36022",
   "metadata": {},
   "outputs": [
    {
     "name": "stdout",
     "output_type": "stream",
     "text": [
      "Test data metrics:\n",
      "              precision    recall  f1-score   support\n",
      "\n",
      "           0       0.97      0.98      0.97       813\n",
      "           1       0.99      0.99      0.99       961\n",
      "           2       0.96      0.97      0.96       860\n",
      "           3       0.96      0.94      0.95       863\n",
      "           4       0.97      0.96      0.97       827\n",
      "           5       0.96      0.97      0.96       756\n",
      "           6       0.97      0.98      0.98       841\n",
      "           7       0.97      0.96      0.97       899\n",
      "           8       0.94      0.95      0.94       768\n",
      "           9       0.96      0.94      0.95       812\n",
      "\n",
      "    accuracy                           0.96      8400\n",
      "   macro avg       0.96      0.96      0.96      8400\n",
      "weighted avg       0.96      0.96      0.96      8400\n",
      "\n"
     ]
    }
   ],
   "source": [
    "# Validation data metrics\n",
    "print(\"Test data metrics:\")\n",
    "print(sklearn.metrics.classification_report(y_true= y_val, y_pred= rf_pred))"
   ]
  },
  {
   "cell_type": "code",
   "execution_count": 21,
   "id": "28bf91e4",
   "metadata": {},
   "outputs": [
    {
     "name": "stdout",
     "output_type": "stream",
     "text": [
      "Confusion Report\n",
      "[[794   0   2   1   2   1   5   0   8   0]\n",
      " [  0 947   7   1   1   2   1   0   2   0]\n",
      " [  6   1 833   4   2   0   2   4   7   1]\n",
      " [  2   0  11 813   0   7   2   9  15   4]\n",
      " [  2   2   1   0 798   0   4   1   2  17]\n",
      " [  2   1   0  10   0 733   5   1   4   0]\n",
      " [  4   1   0   0   1   7 827   0   1   0]\n",
      " [  1   3  12   1   4   0   0 867   1  10]\n",
      " [  2   4   2   9   3  11   5   0 729   3]\n",
      " [  9   1   4   7  12   3   0  10   6 760]]\n"
     ]
    }
   ],
   "source": [
    "print (\"Confusion Report\")\n",
    "print(sklearn.metrics.confusion_matrix(y_val, rf_pred))"
   ]
  },
  {
   "cell_type": "markdown",
   "id": "d8099f68",
   "metadata": {},
   "source": [
    "## Support Vector Machine Classifier"
   ]
  },
  {
   "cell_type": "code",
   "execution_count": 22,
   "id": "f09d41a0",
   "metadata": {},
   "outputs": [
    {
     "name": "stdout",
     "output_type": "stream",
     "text": [
      "(8400,)\n"
     ]
    }
   ],
   "source": [
    "svc = LinearSVC(dual=False)\n",
    "svc.fit(x_train, y_train)\n",
    "\n",
    "# Predictions for validation\n",
    "svc_pred = svc.predict(x_val)\n",
    "print(svc_pred.shape)"
   ]
  },
  {
   "cell_type": "code",
   "execution_count": 23,
   "id": "4b9cdffa",
   "metadata": {},
   "outputs": [
    {
     "name": "stdout",
     "output_type": "stream",
     "text": [
      "Test data metrics:\n",
      "              precision    recall  f1-score   support\n",
      "\n",
      "           0       0.95      0.95      0.95       813\n",
      "           1       0.96      0.98      0.97       961\n",
      "           2       0.91      0.88      0.90       860\n",
      "           3       0.90      0.87      0.89       863\n",
      "           4       0.91      0.91      0.91       827\n",
      "           5       0.85      0.87      0.86       756\n",
      "           6       0.94      0.96      0.95       841\n",
      "           7       0.93      0.93      0.93       899\n",
      "           8       0.86      0.86      0.86       768\n",
      "           9       0.88      0.87      0.88       812\n",
      "\n",
      "    accuracy                           0.91      8400\n",
      "   macro avg       0.91      0.91      0.91      8400\n",
      "weighted avg       0.91      0.91      0.91      8400\n",
      "\n"
     ]
    }
   ],
   "source": [
    "# Validation data metrics\n",
    "print(\"Test data metrics:\")\n",
    "print(sklearn.metrics.classification_report(y_true= y_val, y_pred= svc_pred))"
   ]
  },
  {
   "cell_type": "code",
   "execution_count": 24,
   "id": "3519bdb2",
   "metadata": {},
   "outputs": [
    {
     "name": "stdout",
     "output_type": "stream",
     "text": [
      "Confusion Report\n",
      "[[776   0   3   2   2   7  14   0   6   3]\n",
      " [  0 937   8   3   1   3   2   0   7   0]\n",
      " [  5   8 761  18  12   5   9  15  26   1]\n",
      " [  3   2  27 755   2  36   3   8  15  12]\n",
      " [  2   9   8   1 755   3   4   0   8  37]\n",
      " [  8   3   3  31   5 658  11   3  27   7]\n",
      " [  3   0   8   0   7  12 806   0   5   0]\n",
      " [  3   5  14   3  11   3   1 832   3  24]\n",
      " [  4   9   5  19  10  33   9   2 664  13]\n",
      " [  9   3   3  11  24  10   0  32  10 710]]\n"
     ]
    }
   ],
   "source": [
    "print (\"Confusion Report\")\n",
    "print(sklearn.metrics.confusion_matrix(y_val, svc_pred))"
   ]
  },
  {
   "cell_type": "markdown",
   "id": "c3dbf07c",
   "metadata": {},
   "source": [
    "# Model Ensembling?\n",
    "Let's compare our models. For instance let's see when one is wrong and not the others. By combining (ensembling) our models all together one might expect to have a more accurate prediction. However, what choice can we make to ensemble our models? Our CNN model is accurate around 99% of the time while RF and SVC has an accuracy of only approximatively 96% and 91% respectively. We should therefore be careful to not affect negatively our model when combining them. Let's have a look at it..."
   ]
  },
  {
   "cell_type": "code",
   "execution_count": 25,
   "id": "d6582a4e",
   "metadata": {},
   "outputs": [
    {
     "data": {
      "text/html": [
       "<div>\n",
       "<style scoped>\n",
       "    .dataframe tbody tr th:only-of-type {\n",
       "        vertical-align: middle;\n",
       "    }\n",
       "\n",
       "    .dataframe tbody tr th {\n",
       "        vertical-align: top;\n",
       "    }\n",
       "\n",
       "    .dataframe thead th {\n",
       "        text-align: right;\n",
       "    }\n",
       "</style>\n",
       "<table border=\"1\" class=\"dataframe\">\n",
       "  <thead>\n",
       "    <tr style=\"text-align: right;\">\n",
       "      <th></th>\n",
       "      <th>CNN Prediction</th>\n",
       "      <th>RF Prediction</th>\n",
       "      <th>SVC Prediction</th>\n",
       "      <th>Value</th>\n",
       "    </tr>\n",
       "  </thead>\n",
       "  <tbody>\n",
       "    <tr>\n",
       "      <th>0</th>\n",
       "      <td>3</td>\n",
       "      <td>3</td>\n",
       "      <td>3</td>\n",
       "      <td>3</td>\n",
       "    </tr>\n",
       "    <tr>\n",
       "      <th>1</th>\n",
       "      <td>6</td>\n",
       "      <td>6</td>\n",
       "      <td>6</td>\n",
       "      <td>6</td>\n",
       "    </tr>\n",
       "    <tr>\n",
       "      <th>2</th>\n",
       "      <td>9</td>\n",
       "      <td>9</td>\n",
       "      <td>9</td>\n",
       "      <td>9</td>\n",
       "    </tr>\n",
       "    <tr>\n",
       "      <th>3</th>\n",
       "      <td>5</td>\n",
       "      <td>5</td>\n",
       "      <td>5</td>\n",
       "      <td>5</td>\n",
       "    </tr>\n",
       "    <tr>\n",
       "      <th>4</th>\n",
       "      <td>6</td>\n",
       "      <td>6</td>\n",
       "      <td>6</td>\n",
       "      <td>6</td>\n",
       "    </tr>\n",
       "  </tbody>\n",
       "</table>\n",
       "</div>"
      ],
      "text/plain": [
       "   CNN Prediction  RF Prediction  SVC Prediction  Value\n",
       "0               3              3               3      3\n",
       "1               6              6               6      6\n",
       "2               9              9               9      9\n",
       "3               5              5               5      5\n",
       "4               6              6               6      6"
      ]
     },
     "execution_count": 25,
     "metadata": {},
     "output_type": "execute_result"
    }
   ],
   "source": [
    "rf_pred = pd.DataFrame(rf_pred, columns=[\"RF Prediction\"])\n",
    "svc_pred = pd.DataFrame(svc_pred, columns=[\"SVC Prediction\"])\n",
    "all_pred = pd.concat([cnn_pred, rf_pred, svc_pred, labels], axis=1)\n",
    "all_pred.head()"
   ]
  },
  {
   "cell_type": "markdown",
   "id": "2b80204d",
   "metadata": {},
   "source": [
    "We can see that sometimes either RF or SVC predict the right label while CNN is wrong. However, it happens only rarely that BOTH of them are correct when CNN is wrong. On the other hand, it happens quite frequently that both predict the same WRONG value when CNN is correct. Thus, we cannot configure our model in such a way that the predicted value would be the one predicted by RF and SVC is they are the same. In doing so, we will decrease the accuracy of our model. "
   ]
  },
  {
   "cell_type": "code",
   "execution_count": 26,
   "id": "78d64254",
   "metadata": {},
   "outputs": [
    {
     "name": "stdout",
     "output_type": "stream",
     "text": [
      "{'all wrong': 40, 'only CNN correct': 198, 'only CNN correct_RF and SVC wrong with same value': 149, 'only RF correct': 15, 'only SVC correct': 3, 'RF SCV correct_CNN wrong': 14}\n"
     ]
    }
   ],
   "source": [
    "# CNN has the best accuracy until now\n",
    "# Let's see if we can improve it by using the RF and SVC models\n",
    "# We don't want to give to much weight to RF and SVC because they would otherwise decrease the whole accuracy\n",
    "# Therefore let's focus on the errors of CNN model and look at the prediction of RF and SVC\n",
    "pred_dict = dict()\n",
    "\n",
    "pred_dict[\"all wrong\"] = len(all_pred[(all_pred[\"CNN Prediction\"] != all_pred[\"Value\"]) & \n",
    "                                      (all_pred[\"RF Prediction\"] != all_pred[\"Value\"]) &\n",
    "                                      (all_pred[\"SVC Prediction\"] != all_pred[\"Value\"])].index)\n",
    "\n",
    "pred_dict[\"only CNN correct\"] = len(all_pred[(all_pred[\"CNN Prediction\"] == all_pred[\"Value\"]) & \n",
    "                                      (all_pred[\"RF Prediction\"] != all_pred[\"Value\"]) &\n",
    "                                      (all_pred[\"SVC Prediction\"] != all_pred[\"Value\"])].index)\n",
    "\n",
    "pred_dict[\"only CNN correct_RF and SVC wrong with same value\"] = len(all_pred[(all_pred[\"CNN Prediction\"] == all_pred[\"Value\"]) & \n",
    "                                      (all_pred[\"RF Prediction\"] != all_pred[\"Value\"]) &\n",
    "                                      (all_pred[\"SVC Prediction\"] != all_pred[\"Value\"]) &\n",
    "                                      (all_pred[\"SVC Prediction\"] == all_pred[\"RF Prediction\"])].index)\n",
    "\n",
    "pred_dict[\"only RF correct\"] = len(all_pred[(all_pred[\"CNN Prediction\"] != all_pred[\"Value\"]) & \n",
    "                                      (all_pred[\"RF Prediction\"] == all_pred[\"Value\"]) &\n",
    "                                      (all_pred[\"SVC Prediction\"] != all_pred[\"Value\"])].index)\n",
    "\n",
    "pred_dict[\"only SVC correct\"] = len(all_pred[(all_pred[\"CNN Prediction\"] != all_pred[\"Value\"]) & \n",
    "                                      (all_pred[\"RF Prediction\"] != all_pred[\"Value\"]) &\n",
    "                                      (all_pred[\"SVC Prediction\"] == all_pred[\"Value\"])].index)\n",
    "\n",
    "pred_dict[\"RF SCV correct_CNN wrong\"] = len(all_pred[(all_pred[\"CNN Prediction\"] != all_pred[\"Value\"]) & \n",
    "                                      (all_pred[\"RF Prediction\"] == all_pred[\"Value\"]) &\n",
    "                                      (all_pred[\"SVC Prediction\"] == all_pred[\"Value\"])].index)\n",
    "\n",
    "print(pred_dict)  "
   ]
  },
  {
   "cell_type": "markdown",
   "id": "41044d62",
   "metadata": {},
   "source": [
    "# Submission of test data\n",
    "Based on the conclusions above we will only use the CNN model."
   ]
  },
  {
   "cell_type": "code",
   "execution_count": 27,
   "id": "39c6d0fe",
   "metadata": {},
   "outputs": [
    {
     "data": {
      "text/plain": [
       "(28000, 10)"
      ]
     },
     "execution_count": 27,
     "metadata": {},
     "output_type": "execute_result"
    }
   ],
   "source": [
    "final_pred = cnn_model.predict(x_test)\n",
    "final_pred.shape"
   ]
  },
  {
   "cell_type": "code",
   "execution_count": 28,
   "id": "128207ed",
   "metadata": {},
   "outputs": [],
   "source": [
    "y_pred = final_pred.argmax(axis=1)\n",
    "ImageID = np.arange(len(y_pred))+1\n",
    "Out = pd.DataFrame([ImageID,y_pred]).T\n",
    "Out.rename(columns = {0:'ImageId', 1:'Label'})\n",
    "#Out\n",
    "Out.to_csv('submission.csv', header =  ['ImageId', 'Label' ], index = None)"
   ]
  }
 ],
 "metadata": {
  "kernelspec": {
   "display_name": "Python 3 (ipykernel)",
   "language": "python",
   "name": "python3"
  },
  "language_info": {
   "codemirror_mode": {
    "name": "ipython",
    "version": 3
   },
   "file_extension": ".py",
   "mimetype": "text/x-python",
   "name": "python",
   "nbconvert_exporter": "python",
   "pygments_lexer": "ipython3",
   "version": "3.9.5"
  }
 },
 "nbformat": 4,
 "nbformat_minor": 5
}
